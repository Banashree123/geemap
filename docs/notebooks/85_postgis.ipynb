{
 "cells": [
  {
   "cell_type": "markdown",
   "metadata": {},
   "source": [
    "[![image](https://colab.research.google.com/assets/colab-badge.svg)](https://githubtocolab.com/giswqs/geemap/blob/master/examples/notebooks/85_postgis.ipynb)\n",
    "[![image](https://mybinder.org/badge_logo.svg)](https://gishub.org/geemap-binder)\n",
    "\n",
    "**Adding data from a PostGIS database to the map**\n",
    "\n",
    "Setting up the conda env:\n",
    "\n",
    "```\n",
    "conda create -n geo python=3.8\n",
    "conda activate geo\n",
    "conda install geopandas\n",
    "conda install mamba -c conda-forge\n",
    "mamba install geemap sqlalchemy psycopg2 -c conda-forge\n",
    "```\n",
    "\n",
    "Sample dataset:\n",
    "- [nyc_data.zip](https://github.com/giswqs/postgis/raw/master/data/nyc_data.zip) (Watch this [video](https://youtu.be/fROzLrjNDrs) to load data into PostGIS)"
   ]
  },
  {
   "cell_type": "markdown",
   "metadata": {},
   "source": [
    "**Connecting to the database**"
   ]
  },
  {
   "cell_type": "code",
   "execution_count": 1,
   "metadata": {},
   "outputs": [],
   "source": [
    "import geemap"
   ]
  },
  {
   "cell_type": "markdown",
   "metadata": {},
   "source": [
    "You can directly pass in the user name and password to access the database. Alternative, you can define environment variables. The default environment variables for user and password are `SQL_USER` and `SQL_PASSWORD`, respectively."
   ]
  },
  {
   "cell_type": "markdown",
   "metadata": {},
   "source": [
    "The `try...except...` statements are only used for building the documentation website (https://geemap.org) because the PostGIS database is not available on GitHub. If you are running the notebook with Jupyter installed locally and PostGIS set up properly, you don't need these `try...except...` statements."
   ]
  },
  {
   "cell_type": "code",
   "execution_count": 2,
   "metadata": {},
   "outputs": [],
   "source": [
    "try:\n",
    "    con = geemap.connect_postgis(\n",
    "        database=\"nyc\", host=\"localhost\", user=None, password=None, use_env_var=True\n",
    "    )\n",
    "except:\n",
    "    pass"
   ]
  },
  {
   "cell_type": "markdown",
   "metadata": {},
   "source": [
    "Create a GeoDataFrame from a sql query."
   ]
  },
  {
   "cell_type": "code",
   "execution_count": 3,
   "metadata": {},
   "outputs": [],
   "source": [
    "sql = 'SELECT * FROM nyc_neighborhoods'"
   ]
  },
  {
   "cell_type": "code",
   "execution_count": 4,
   "metadata": {},
   "outputs": [
    {
     "data": {
      "text/html": [
       "<div>\n",
       "<style scoped>\n",
       "    .dataframe tbody tr th:only-of-type {\n",
       "        vertical-align: middle;\n",
       "    }\n",
       "\n",
       "    .dataframe tbody tr th {\n",
       "        vertical-align: top;\n",
       "    }\n",
       "\n",
       "    .dataframe thead th {\n",
       "        text-align: right;\n",
       "    }\n",
       "</style>\n",
       "<table border=\"1\" class=\"dataframe\">\n",
       "  <thead>\n",
       "    <tr style=\"text-align: right;\">\n",
       "      <th></th>\n",
       "      <th>id</th>\n",
       "      <th>geom</th>\n",
       "      <th>boroname</th>\n",
       "      <th>name</th>\n",
       "    </tr>\n",
       "  </thead>\n",
       "  <tbody>\n",
       "    <tr>\n",
       "      <th>0</th>\n",
       "      <td>1</td>\n",
       "      <td>MULTIPOLYGON (((582771.426 4495167.427, 584651...</td>\n",
       "      <td>Brooklyn</td>\n",
       "      <td>Bensonhurst</td>\n",
       "    </tr>\n",
       "    <tr>\n",
       "      <th>1</th>\n",
       "      <td>2</td>\n",
       "      <td>MULTIPOLYGON (((585508.753 4509691.267, 586826...</td>\n",
       "      <td>Manhattan</td>\n",
       "      <td>East Village</td>\n",
       "    </tr>\n",
       "    <tr>\n",
       "      <th>2</th>\n",
       "      <td>3</td>\n",
       "      <td>MULTIPOLYGON (((583263.278 4509242.626, 583276...</td>\n",
       "      <td>Manhattan</td>\n",
       "      <td>West Village</td>\n",
       "    </tr>\n",
       "    <tr>\n",
       "      <th>3</th>\n",
       "      <td>4</td>\n",
       "      <td>MULTIPOLYGON (((597640.009 4520272.720, 597647...</td>\n",
       "      <td>The Bronx</td>\n",
       "      <td>Throggs Neck</td>\n",
       "    </tr>\n",
       "    <tr>\n",
       "      <th>4</th>\n",
       "      <td>5</td>\n",
       "      <td>MULTIPOLYGON (((595285.205 4525938.798, 595348...</td>\n",
       "      <td>The Bronx</td>\n",
       "      <td>Wakefield-Williamsbridge</td>\n",
       "    </tr>\n",
       "    <tr>\n",
       "      <th>...</th>\n",
       "      <td>...</td>\n",
       "      <td>...</td>\n",
       "      <td>...</td>\n",
       "      <td>...</td>\n",
       "    </tr>\n",
       "    <tr>\n",
       "      <th>124</th>\n",
       "      <td>125</td>\n",
       "      <td>MULTIPOLYGON (((584212.898 4502321.474, 584306...</td>\n",
       "      <td>Brooklyn</td>\n",
       "      <td>Red Hook</td>\n",
       "    </tr>\n",
       "    <tr>\n",
       "      <th>125</th>\n",
       "      <td>126</td>\n",
       "      <td>MULTIPOLYGON (((605082.288 4513540.148, 605091...</td>\n",
       "      <td>Queens</td>\n",
       "      <td>Douglastown-Little Neck</td>\n",
       "    </tr>\n",
       "    <tr>\n",
       "      <th>126</th>\n",
       "      <td>127</td>\n",
       "      <td>MULTIPOLYGON (((600138.493 4516909.499, 600138...</td>\n",
       "      <td>Queens</td>\n",
       "      <td>Whitestone</td>\n",
       "    </tr>\n",
       "    <tr>\n",
       "      <th>127</th>\n",
       "      <td>128</td>\n",
       "      <td>MULTIPOLYGON (((593231.553 4515088.539, 593306...</td>\n",
       "      <td>Queens</td>\n",
       "      <td>Steinway</td>\n",
       "    </tr>\n",
       "    <tr>\n",
       "      <th>128</th>\n",
       "      <td>129</td>\n",
       "      <td>MULTIPOLYGON (((579051.030 4495284.647, 579062...</td>\n",
       "      <td>Staten Island</td>\n",
       "      <td>Rosebank</td>\n",
       "    </tr>\n",
       "  </tbody>\n",
       "</table>\n",
       "<p>129 rows × 4 columns</p>\n",
       "</div>"
      ],
      "text/plain": [
       "      id                                               geom       boroname  \\\n",
       "0      1  MULTIPOLYGON (((582771.426 4495167.427, 584651...       Brooklyn   \n",
       "1      2  MULTIPOLYGON (((585508.753 4509691.267, 586826...      Manhattan   \n",
       "2      3  MULTIPOLYGON (((583263.278 4509242.626, 583276...      Manhattan   \n",
       "3      4  MULTIPOLYGON (((597640.009 4520272.720, 597647...      The Bronx   \n",
       "4      5  MULTIPOLYGON (((595285.205 4525938.798, 595348...      The Bronx   \n",
       "..   ...                                                ...            ...   \n",
       "124  125  MULTIPOLYGON (((584212.898 4502321.474, 584306...       Brooklyn   \n",
       "125  126  MULTIPOLYGON (((605082.288 4513540.148, 605091...         Queens   \n",
       "126  127  MULTIPOLYGON (((600138.493 4516909.499, 600138...         Queens   \n",
       "127  128  MULTIPOLYGON (((593231.553 4515088.539, 593306...         Queens   \n",
       "128  129  MULTIPOLYGON (((579051.030 4495284.647, 579062...  Staten Island   \n",
       "\n",
       "                         name  \n",
       "0                 Bensonhurst  \n",
       "1                East Village  \n",
       "2                West Village  \n",
       "3                Throggs Neck  \n",
       "4    Wakefield-Williamsbridge  \n",
       "..                        ...  \n",
       "124                  Red Hook  \n",
       "125   Douglastown-Little Neck  \n",
       "126                Whitestone  \n",
       "127                  Steinway  \n",
       "128                  Rosebank  \n",
       "\n",
       "[129 rows x 4 columns]"
      ]
     },
     "metadata": {},
     "output_type": "display_data"
    }
   ],
   "source": [
    "try:\n",
    "    gdf = geemap.read_postgis(sql, con)\n",
    "    display(gdf)\n",
    "except:\n",
    "    pass"
   ]
  },
  {
   "cell_type": "markdown",
   "metadata": {},
   "source": [
    "Convert gdf to ee.FeatureCollection"
   ]
  },
  {
   "cell_type": "code",
   "execution_count": 7,
   "metadata": {},
   "outputs": [
    {
     "data": {
      "application/vnd.jupyter.widget-view+json": {
       "model_id": "dc23816a43af4962acc26310cfa51ec7",
       "version_major": 2,
       "version_minor": 0
      },
      "text/plain": [
       "Map(center=[40, -100], controls=(WidgetControl(options=['position', 'transparent_bg'], widget=HBox(children=(T…"
      ]
     },
     "metadata": {},
     "output_type": "display_data"
    }
   ],
   "source": [
    "try:\n",
    "    m = geemap.Map()\n",
    "    fc = geemap.gdf_to_ee(gdf)\n",
    "    m.addLayer(fc, {}, \"NYC EE\")\n",
    "    m.centerObject(fc)\n",
    "    display(m)\n",
    "except:\n",
    "    pss"
   ]
  },
  {
   "cell_type": "markdown",
   "metadata": {},
   "source": [
    "Display the GeoDataFrame on the interactive map. "
   ]
  },
  {
   "cell_type": "code",
   "execution_count": 6,
   "metadata": {},
   "outputs": [
    {
     "data": {
      "application/vnd.jupyter.widget-view+json": {
       "model_id": "ca4cc0f416b64f478816fec9b857dc95",
       "version_major": 2,
       "version_minor": 0
      },
      "text/plain": [
       "Map(center=[40, -100], controls=(WidgetControl(options=['position', 'transparent_bg'], widget=HBox(children=(T…"
      ]
     },
     "metadata": {},
     "output_type": "display_data"
    }
   ],
   "source": [
    "try:\n",
    "    m = geemap.Map()\n",
    "    m.add_gdf_from_postgis(\n",
    "        sql, con, layer_name=\"NYC Neighborhoods\", fill_colors=[\"red\", \"green\", \"blue\"]\n",
    "    )\n",
    "    display(m)\n",
    "except:\n",
    "    pass"
   ]
  },
  {
   "cell_type": "markdown",
   "metadata": {},
   "source": [
    "![](https://i.imgur.com/mAXaBCv.gif)"
   ]
  }
 ],
 "metadata": {
  "hide_input": false,
  "kernelspec": {
   "display_name": "Python 3",
   "language": "python",
   "name": "python3"
  },
  "language_info": {
   "codemirror_mode": {
    "name": "ipython",
    "version": 3
   },
   "file_extension": ".py",
   "mimetype": "text/x-python",
   "name": "python",
   "nbconvert_exporter": "python",
   "pygments_lexer": "ipython3",
   "version": "3.8.5"
  },
  "toc": {
   "base_numbering": 1,
   "nav_menu": {},
   "number_sections": true,
   "sideBar": true,
   "skip_h1_title": false,
   "title_cell": "Table of Contents",
   "title_sidebar": "Contents",
   "toc_cell": false,
   "toc_position": {
    "height": "calc(100% - 180px)",
    "left": "10px",
    "top": "150px",
    "width": "384px"
   },
   "toc_section_display": true,
   "toc_window_display": false
  },
  "varInspector": {
   "cols": {
    "lenName": 16,
    "lenType": 16,
    "lenVar": 40
   },
   "kernels_config": {
    "python": {
     "delete_cmd_postfix": "",
     "delete_cmd_prefix": "del ",
     "library": "var_list.py",
     "varRefreshCmd": "print(var_dic_list())"
    },
    "r": {
     "delete_cmd_postfix": ") ",
     "delete_cmd_prefix": "rm(",
     "library": "var_list.r",
     "varRefreshCmd": "cat(var_dic_list()) "
    }
   },
   "types_to_exclude": [
    "module",
    "function",
    "builtin_function_or_method",
    "instance",
    "_Feature"
   ],
   "window_display": false
  }
 },
 "nbformat": 4,
 "nbformat_minor": 4
}
